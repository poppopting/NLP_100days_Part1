{
 "cells": [
  {
   "cell_type": "markdown",
   "metadata": {},
   "source": [
    "## 監督式學習的優缺點\n",
    "\n",
    "* 優點\n",
    "    * 透過明確的標記，我們更能使訓練的模型達到我們所想要的目標\n",
    "* 缺點\n",
    "    * 必須要有標記才能訓練模型，在標記時需要花大量時間"
   ]
  },
  {
   "cell_type": "markdown",
   "metadata": {},
   "source": [
    "## 非監督式學習的優缺點\n",
    "* 優點\n",
    "    * 不須標記即可進行模型訓練\n",
    "* 缺點\n",
    "    * 無法保證訓練結果是理想的"
   ]
  }
 ],
 "metadata": {
  "kernelspec": {
   "display_name": "Python 3",
   "language": "python",
   "name": "python3"
  },
  "language_info": {
   "codemirror_mode": {
    "name": "ipython",
    "version": 3
   },
   "file_extension": ".py",
   "mimetype": "text/x-python",
   "name": "python",
   "nbconvert_exporter": "python",
   "pygments_lexer": "ipython3",
   "version": "3.6.5"
  }
 },
 "nbformat": 4,
 "nbformat_minor": 2
}
