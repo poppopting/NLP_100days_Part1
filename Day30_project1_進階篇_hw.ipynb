{
 "cells": [
  {
   "cell_type": "markdown",
   "metadata": {},
   "source": [
    "# 自製智能中文選字系統  (2)"
   ]
  },
  {
   "cell_type": "markdown",
   "metadata": {},
   "source": [
    "確認版本為 python3"
   ]
  },
  {
   "cell_type": "markdown",
   "metadata": {},
   "source": [
    "## 資料前處理"
   ]
  },
  {
   "cell_type": "code",
   "execution_count": 1,
   "metadata": {},
   "outputs": [],
   "source": [
    "import re"
   ]
  },
  {
   "cell_type": "code",
   "execution_count": 2,
   "metadata": {},
   "outputs": [],
   "source": [
    "def prepocess_line(line):\n",
    "    chinese_pattern = r'[\\u4E00-\\u9FFF]+'\n",
    "    segments = re.findall(chinese_pattern, line, flags=re.UNICODE)\n",
    "    return segments"
   ]
  },
  {
   "cell_type": "code",
   "execution_count": 3,
   "metadata": {
    "tags": []
   },
   "outputs": [],
   "source": [
    "segments = []\n",
    "with open('wiki_zh_small.txt', encoding='utf-8') as fr:\n",
    "    for line in fr.readlines():\n",
    "        segments += prepocess_line(line)"
   ]
  },
  {
   "cell_type": "markdown",
   "metadata": {},
   "source": [
    "## 斷詞"
   ]
  },
  {
   "cell_type": "code",
   "execution_count": 4,
   "metadata": {},
   "outputs": [],
   "source": [
    "import jieba"
   ]
  },
  {
   "cell_type": "code",
   "execution_count": 5,
   "metadata": {
    "tags": []
   },
   "outputs": [
    {
     "name": "stderr",
     "output_type": "stream",
     "text": [
      "Building prefix dict from the default dictionary ...\n",
      "Loading model from cache C:\\Windows\\Temp\\jieba.cache\n",
      "Loading model cost 0.735 seconds.\n",
      "Prefix dict has been built successfully.\n"
     ]
    },
    {
     "data": {
      "text/plain": [
       "['所以', '僅用', '於', '還原', '一些', '貴重', '的', '化合', '化合物']"
      ]
     },
     "execution_count": 5,
     "metadata": {},
     "output_type": "execute_result"
    }
   ],
   "source": [
    "list(jieba.cut_for_search(segments[6001]))"
   ]
  },
  {
   "cell_type": "code",
   "execution_count": 6,
   "metadata": {
    "tags": []
   },
   "outputs": [],
   "source": [
    "cut_segments = []\n",
    "for seg in segments:\n",
    "    # 使用結巴斷詞的 cut_for_search\n",
    "    cut_segments.extend(list(jieba.cut_for_search(seg)))"
   ]
  },
  {
   "cell_type": "markdown",
   "metadata": {},
   "source": [
    "## 使用斷詞的結果來作Ngram"
   ]
  },
  {
   "cell_type": "code",
   "execution_count": 7,
   "metadata": {},
   "outputs": [],
   "source": [
    "from collections import Counter\n",
    "\n",
    "class Counters:\n",
    "    def __init__(self, n):\n",
    "        self.n = n\n",
    "        self.counters = [Counter() for _ in range(n + 1)]\n",
    "\n",
    "    def fit(self, segments):\n",
    "        for i in range(1, 1 + self.n):\n",
    "            for segment in segments:\n",
    "                self.counters[i] += Counter(self._skip(segment, i))\n",
    "\n",
    "        base_count = sum(dict(self.counters[1]).values())\n",
    "        self.counters[0] = Counter({'': base_count})\n",
    "\n",
    "    def __getitem__(self, k):\n",
    "        return self.counters[k]\n",
    "\n",
    "    def _skip(self, segment, n):\n",
    "        assert n > 0\n",
    "        if len(segment) < n:\n",
    "            return []\n",
    "        shift = n - 1\n",
    "        for i in range(len(segment) - shift):\n",
    "            yield segment[i:i+shift+1]"
   ]
  },
  {
   "cell_type": "code",
   "execution_count": 8,
   "metadata": {},
   "outputs": [],
   "source": [
    "counters = Counters(n=5)\n",
    "counters.fit(cut_segments)"
   ]
  },
  {
   "cell_type": "code",
   "execution_count": 9,
   "metadata": {},
   "outputs": [],
   "source": [
    "class Ngram:\n",
    "    def __init__(self, n, counters):\n",
    "        assert n <= counters.n\n",
    "        self.n = n\n",
    "        self.major_counter = counters[n]\n",
    "        self.minor_counter = counters[n-1]\n",
    "\n",
    "    def predict_proba(self, prefix='', top_k=5):\n",
    "        assert len(prefix) >= self.n - 1\n",
    "\n",
    "        reference = prefix[-(self.n - 1):] if self.n > 1 else ''\n",
    "        count_referecne = self.minor_counter[reference]\n",
    "        probs = []\n",
    "        for key, count in dict(self.major_counter).items():\n",
    "            if key.startswith(reference):\n",
    "                prob = count / count_referecne\n",
    "                probs.append((prob, key[-1]))\n",
    "        sorted_probs = sorted(probs, reverse=True)\n",
    "        return sorted_probs[:top_k] if top_k > 0 else sorted_probs\n",
    "\n",
    "    def get_proba_dict(self, prefix=''):\n",
    "        return {word: prob for prob, word in self.predict_proba(prefix, top_k=-1)}"
   ]
  },
  {
   "cell_type": "code",
   "execution_count": 10,
   "metadata": {},
   "outputs": [],
   "source": [
    "ngrams = [Ngram(i, counters) for i in range(1, 6)]"
   ]
  },
  {
   "cell_type": "markdown",
   "metadata": {},
   "source": [
    "## 使用Smoothing of Language Models來建立第二版選字系統"
   ]
  },
  {
   "cell_type": "code",
   "execution_count": 11,
   "metadata": {},
   "outputs": [],
   "source": [
    "from tqdm.auto import tqdm"
   ]
  },
  {
   "cell_type": "code",
   "execution_count": 12,
   "metadata": {},
   "outputs": [],
   "source": [
    "class ChineseWordRecommenderV2:\n",
    "    def __init__(self, ngrams):\n",
    "        self.ngrams = ngrams\n",
    "    \n",
    "    def predict_proba(self, prefix='', top_k=5, mode='back-off'):\n",
    "        interpolation_lambda = 0.99\n",
    "        proba_dicts = [ngram.get_proba_dict(prefix) for ngram in self.ngrams[:len(prefix)+1]]\n",
    "\n",
    "        probas = []\n",
    "        if mode == 'back-off':\n",
    "            idx = 1 if prefix else 0 \n",
    "            counter = self.ngrams[idx].major_counter\n",
    "            nr_map = self._get_nr(counter)\n",
    "        # the word appears in higher order dict must appears in lower order dict\n",
    "        for word in proba_dicts[0].keys():\n",
    "            # Interpolation smoothing\n",
    "            if mode == 'Interpolation':\n",
    "                prob = self._get_interpolation_proba(word, proba_dicts, interpolation_lambda, None)\n",
    "            # back-off smoothing\n",
    "            elif mode == 'back-off':\n",
    "                prob = self._get_backoff_proba(prefix, word, counter, nr_map, proba_dicts, 5, idx)\n",
    "        \n",
    "            probas.append((prob, word))    \n",
    "        sorted_probas = sorted(probas, reverse=True)\n",
    "        \n",
    "        return sorted_probas[:top_k] if top_k > 0 else sorted_probas\n",
    "    \n",
    "    def _get_interpolation_proba(self, word, proba_dicts, interp_lambda, idx=None):\n",
    "        if idx is None:\n",
    "            idx = len(proba_dicts) - 1\n",
    "        if idx == 0:\n",
    "            return proba_dicts[idx].get(word, 0.)\n",
    "        return interp_lambda * proba_dicts[idx].get(word, 0.) + \\\n",
    "               (1 - interp_lambda) * self._get_interpolation_proba(word, proba_dicts, interp_lambda, idx=idx-1)\n",
    "    \n",
    "    def _get_nr(self, counter):\n",
    "        nr_map = {}\n",
    "        for cnt in counter.values():\n",
    "            nr_map[cnt] = nr_map.get(cnt, 0) + 1\n",
    "        return nr_map\n",
    "    \n",
    "    def _get_backoff_proba(self, prefix, word, counter, nr_map, proba_dicts, k=5, idx=None):\n",
    "        prefix = prefix[-1] if prefix else ''\n",
    "        r = counter[prefix+word]\n",
    "        if r > k:\n",
    "            dr = 1\n",
    "            p_katz = dr * proba_dicts[idx][word]\n",
    "        elif (r > 0) and (r <= k): \n",
    "            tmp = (k+1)*nr_map[k+1] / nr_map[1]\n",
    "            dr = ((r+1)*nr_map[r+1]/(r*nr_map[r]) - tmp) / (1 - tmp) \n",
    "            p_katz = dr * proba_dicts[idx][word]\n",
    "        else:\n",
    "            nonzero_p_katz = 0\n",
    "            nonzero_ml_cnt = 0\n",
    "            for w in proba_dicts[idx].keys():\n",
    "                r = counter[prefix+word]\n",
    "                p_katz = self._get_backoff_proba(prefix, w, counter, nr_map, proba_dicts, k, idx)\n",
    "                nonzero_p_katz += p_katz\n",
    "                nonzero_ml_cnt += self.ngrams[idx-1].major_counter[w]\n",
    "                \n",
    "            all_unigram_cnt = sum(self.ngrams[idx-1].major_counter.values())\n",
    "        \n",
    "            alpha = (1 - nonzero_p_katz) / (1 - nonzero_ml_cnt/all_unigram_cnt)\n",
    "            c_katz = alpha * self.ngrams[idx-1].major_counter.get(word, 0)\n",
    "            p_katz = c_katz / all_unigram_cnt\n",
    "        return p_katz"
   ]
  },
  {
   "cell_type": "code",
   "execution_count": 13,
   "metadata": {},
   "outputs": [],
   "source": [
    "model = ChineseWordRecommenderV2(ngrams)"
   ]
  },
  {
   "cell_type": "code",
   "execution_count": 16,
   "metadata": {
    "scrolled": true,
    "tags": []
   },
   "outputs": [
    {
     "data": {
      "text/plain": [
       "[(0.05230496453900709, '國'),\n",
       " (0.044326241134751775, '律'),\n",
       " (0.030141843971631204, '院'),\n",
       " (0.028948136090029063, '的'),\n",
       " (0.020390070921985817, '語'),\n",
       " (0.01152482269503546, '蘭'),\n",
       " (0.010638297872340425, '系'),\n",
       " (0.009135433334423064, '一'),\n",
       " (0.008169332363511292, '在'),\n",
       " (0.007978723404255319, '定')]"
      ]
     },
     "execution_count": 16,
     "metadata": {},
     "output_type": "execute_result"
    }
   ],
   "source": [
    "probs = model.predict_proba('法', top_k=10, mode='back-off')\n",
    "probs"
   ]
  },
  {
   "cell_type": "markdown",
   "metadata": {},
   "source": [
    "## Demo"
   ]
  },
  {
   "cell_type": "code",
   "execution_count": 17,
   "metadata": {},
   "outputs": [
    {
     "data": {
      "application/vnd.jupyter.widget-view+json": {
       "model_id": "66168b76b6924f6381c5cab148d893bb",
       "version_major": 2,
       "version_minor": 0
      },
      "text/plain": [
       "Label(value='')"
      ]
     },
     "metadata": {},
     "output_type": "display_data"
    },
    {
     "data": {
      "application/vnd.jupyter.widget-view+json": {
       "model_id": "8aad52eab8c24eed81a4d17d945e8510",
       "version_major": 2,
       "version_minor": 0
      },
      "text/plain": [
       "Textarea(value='')"
      ]
     },
     "metadata": {},
     "output_type": "display_data"
    }
   ],
   "source": [
    "import ipywidgets as widgets\n",
    "\n",
    "text = widgets.Textarea()\n",
    "label = widgets.Label()\n",
    "display(label, text)\n",
    "\n",
    "def func(change):\n",
    "    probs = model.predict_proba(change.new, top_k=10, mode='back-off')\n",
    "    label.value = ' ' + '\\t'.join([word for prob, word in probs])\n",
    "\n",
    "text.observe(func, names='value')"
   ]
  }
 ],
 "metadata": {
  "kernelspec": {
   "display_name": "Python 3",
   "language": "python",
   "name": "python3"
  },
  "language_info": {
   "codemirror_mode": {
    "name": "ipython",
    "version": 3
   },
   "file_extension": ".py",
   "mimetype": "text/x-python",
   "name": "python",
   "nbconvert_exporter": "python",
   "pygments_lexer": "ipython3",
   "version": "3.6.5"
  }
 },
 "nbformat": 4,
 "nbformat_minor": 2
}
