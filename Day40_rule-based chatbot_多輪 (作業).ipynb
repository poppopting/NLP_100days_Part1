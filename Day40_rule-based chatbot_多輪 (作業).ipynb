{
 "cells": [
  {
   "cell_type": "markdown",
   "metadata": {
    "id": "zJbDC8UIBeCd"
   },
   "source": [
    "# 2.Linebot設計"
   ]
  },
  {
   "cell_type": "markdown",
   "metadata": {
    "id": "IJRQbmaMBeCf"
   },
   "source": [
    "```\n",
    "當query包含\"身高\"、\"體重\"、\"年齡\"、\"收入\"等隱私時，回覆以下貼圖\n",
    "```"
   ]
  },
  {
   "cell_type": "code",
   "execution_count": 2,
   "metadata": {
    "id": "y6ySPB43BeCh",
    "outputId": "9eccaec4-ba8c-477a-8e23-9f0663f3d1df"
   },
   "outputs": [
    {
     "data": {
      "image/png": "[encoded data removed]",
      "text/plain": [
       "<IPython.core.display.Image object>"
      ]
     },
     "execution_count": 2,
     "metadata": {},
     "output_type": "execute_result"
    }
   ],
   "source": [
    "from IPython.display import Image \n",
    "Image(filename='play_dumb.PNG') "
   ]
  },
  {
   "cell_type": "code",
   "execution_count": 3,
   "metadata": {},
   "outputs": [
    {
     "name": "stdout",
     "output_type": "stream",
     "text": [
      " * Serving Flask app \"__main__\" (lazy loading)\n",
      " * Environment: production\n",
      "   WARNING: This is a development server. Do not use it in a production deployment.\n",
      "   Use a production WSGI server instead.\n",
      " * Debug mode: off\n"
     ]
    },
    {
     "name": "stderr",
     "output_type": "stream",
     "text": [
      " * Running on http://127.0.0.1:5000/ (Press CTRL+C to quit)\n",
      "127.0.0.1 - - [06/Mar/2021 20:05:55] \"\u001b[37mPOST /callback HTTP/1.1\u001b[0m\" 200 -\n"
     ]
    },
    {
     "name": "stdout",
     "output_type": "stream",
     "text": [
      "body: {\"events\":[],\"destination\":\"Ub08d189067bd2fdeb7a14779756f8f08\"}\n",
      "signature: 6JTDQDe7+t05YXKoHthLUfA9y3iLiCG11hXSJF1FnUw=\n",
      "===\n"
     ]
    },
    {
     "name": "stderr",
     "output_type": "stream",
     "text": [
      "127.0.0.1 - - [06/Mar/2021 20:06:08] \"\u001b[37mPOST /callback HTTP/1.1\u001b[0m\" 200 -\n"
     ]
    },
    {
     "name": "stdout",
     "output_type": "stream",
     "text": [
      "body: {\"events\":[{\"type\":\"message\",\"replyToken\":\"9931570a510c4867836c95dfd0f20183\",\"source\":{\"userId\":\"U72d1ce6e444eedff9046de635661aabc\",\"type\":\"user\"},\"timestamp\":1615032368154,\"mode\":\"active\",\"message\":{\"type\":\"text\",\"id\":\"13670317188039\",\"text\":\"嗚嗚\"}}],\"destination\":\"Ub08d189067bd2fdeb7a14779756f8f08\"}\n",
      "signature: OlKGhyAVuSKmgrkOGfkTdbYulQN1b8Az5iCUGe84wD4=\n",
      "===\n"
     ]
    },
    {
     "name": "stderr",
     "output_type": "stream",
     "text": [
      "127.0.0.1 - - [06/Mar/2021 20:06:13] \"\u001b[37mPOST /callback HTTP/1.1\u001b[0m\" 200 -\n"
     ]
    },
    {
     "name": "stdout",
     "output_type": "stream",
     "text": [
      "body: {\"events\":[{\"type\":\"message\",\"replyToken\":\"a84ce69bdf76467790df3372f53d3c38\",\"source\":{\"userId\":\"U72d1ce6e444eedff9046de635661aabc\",\"type\":\"user\"},\"timestamp\":1615032373525,\"mode\":\"active\",\"message\":{\"type\":\"text\",\"id\":\"13670317650233\",\"text\":\"身高\"}}],\"destination\":\"Ub08d189067bd2fdeb7a14779756f8f08\"}\n",
      "signature: k29V1JsulTJT1DW5+8OT7EpGHU/SGjUWlH8Q9NO/1rk=\n",
      "===\n"
     ]
    },
    {
     "name": "stderr",
     "output_type": "stream",
     "text": [
      "127.0.0.1 - - [06/Mar/2021 20:06:23] \"\u001b[37mPOST /callback HTTP/1.1\u001b[0m\" 200 -\n"
     ]
    },
    {
     "name": "stdout",
     "output_type": "stream",
     "text": [
      "body: {\"events\":[{\"type\":\"message\",\"replyToken\":\"384d66c521294084953e1f8cd4c3742c\",\"source\":{\"userId\":\"U72d1ce6e444eedff9046de635661aabc\",\"type\":\"user\"},\"timestamp\":1615032382777,\"mode\":\"active\",\"message\":{\"type\":\"sticker\",\"id\":\"13670318440107\",\"stickerId\":\"341693884\",\"packageId\":\"12898178\",\"stickerResourceType\":\"STATIC\",\"keywords\":[\"Beaming\"]}}],\"destination\":\"Ub08d189067bd2fdeb7a14779756f8f08\"}\n",
      "signature: 0jgPJucgYatoJQ9SEfLNH9gdB2wWd3/px0qDG9I7AqQ=\n",
      "===\n",
      "body: {\"events\":[{\"type\":\"message\",\"replyToken\":\"b7cdcaf1188e4e76993faf9b55f9ce35\",\"source\":{\"userId\":\"U72d1ce6e444eedff9046de635661aabc\",\"type\":\"user\"},\"timestamp\":1615032397417,\"mode\":\"active\",\"message\":{\"type\":\"text\",\"id\":\"13670319666499\",\"text\":\"收入多少啦\"}}],\"destination\":\"Ub08d189067bd2fdeb7a14779756f8f08\"}\n",
      "signature: CgYx08Bng3pPA/esWyj7wjLOBvQJonEV7GPJZBnwwXM=\n",
      "===\n"
     ]
    },
    {
     "name": "stderr",
     "output_type": "stream",
     "text": [
      "127.0.0.1 - - [06/Mar/2021 20:06:37] \"\u001b[37mPOST /callback HTTP/1.1\u001b[0m\" 200 -\n",
      "127.0.0.1 - - [06/Mar/2021 20:06:42] \"\u001b[37mPOST /callback HTTP/1.1\u001b[0m\" 200 -\n"
     ]
    },
    {
     "name": "stdout",
     "output_type": "stream",
     "text": [
      "body: {\"events\":[{\"type\":\"message\",\"replyToken\":\"3a800a3ceaba41ceb8410877c8bf00fc\",\"source\":{\"userId\":\"U72d1ce6e444eedff9046de635661aabc\",\"type\":\"user\"},\"timestamp\":1615032401600,\"mode\":\"active\",\"message\":{\"type\":\"text\",\"id\":\"13670320019657\",\"text\":\"嗚嗚嗚\"}}],\"destination\":\"Ub08d189067bd2fdeb7a14779756f8f08\"}\n",
      "signature: T1HULspkzXDUiYCbXWk6PIeJr95ZI5BwyI25sLifzEs=\n",
      "===\n"
     ]
    }
   ],
   "source": [
    "from __future__ import unicode_literals\n",
    "import os, requests, json, configparser\n",
    "from flask import Flask, request, abort\n",
    "from linebot import LineBotApi, WebhookHandler\n",
    "from linebot.exceptions import InvalidSignatureError\n",
    "from linebot.models import *\n",
    "\n",
    "app = Flask(__name__)\n",
    "\n",
    "# LINE 聊天機器人的基本資料\n",
    "config = configparser.ConfigParser()\n",
    "config.read('confing.ini')\n",
    "\n",
    "line_bot_api = LineBotApi(config.get('line-bot', 'channel_access_token'))\n",
    "handler = WebhookHandler(config.get('line-bot', 'channel_secret'))\n",
    "\n",
    "# 接收 LINE 資訊\n",
    "@app.route(\"/callback\", methods=['POST'])\n",
    "def callback():\n",
    "    signature = request.headers['X-Line-Signature']\n",
    "    body = request.get_data(as_text=True)\n",
    "    app.logger.info(\"Request body: \" + body)\n",
    "\n",
    "    try:\n",
    "        print(\"body:\",body)\n",
    "        print(\"signature:\", signature)\n",
    "        print(\"===\")\n",
    "        handler.handle(body, signature)\n",
    "    except InvalidSignatureError:\n",
    "        abort(400)\n",
    "    return 'OK'\n",
    "\n",
    "# 回覆設定 (defaul僅能回固定語句)\n",
    "@handler.add(MessageEvent, message=TextMessage)\n",
    "def get_response(event):\n",
    "    query = event.message.text \n",
    "    \n",
    "    if any(i for i in [\"身高\", \"體重\", \"年齡\", \"收入\"] if i in query) :    \n",
    "        line_bot_api.reply_message(event.reply_token,StickerSendMessage(package_id=2, sticker_id=149))\n",
    "    \n",
    "    else:\n",
    "        line_bot_api.reply_message(event.reply_token, TextSendMessage(text=\"嗨嗨\"))\n",
    "if __name__ == \"__main__\":\n",
    "    app.run()"
   ]
  },
  {
   "cell_type": "markdown",
   "metadata": {
    "id": "Tnl1BwbeBeCi"
   },
   "source": [
    "## 3.以Python實現多輪對話"
   ]
  },
  {
   "cell_type": "markdown",
   "metadata": {
    "id": "bOdGfh3IBeCj"
   },
   "source": [
    "```\n",
    "於多輪對話情境中加入\"取得股價資訊的功能\"，query為公司簡稱時(ex.鴻海)，即輸出2020/12/1 ~12/10之股價資訊\n",
    "```"
   ]
  },
  {
   "cell_type": "code",
   "execution_count": 5,
   "metadata": {},
   "outputs": [],
   "source": [
    "import pandas as pd\n",
    "import datetime\n",
    "def find_search_stock(stock_symbol):\n",
    "    stock_symbol = str(stock_symbol)\n",
    "    if len(stock_symbol) == 4 and stock_symbol.isdigit():\n",
    "        search_str = stock_symbol\n",
    "        \n",
    "    else:\n",
    "\n",
    "        stock_list = pd.read_csv('tw_stock_list.csv')\n",
    "        stock_str2num = dict(zip(stock_list['STOCK_NAME'], stock_list['STOCK_SYMBOL']))\n",
    "        search_str = stock_str2num.get(stock_symbol, '')\n",
    "        \n",
    "    if search_str != '':\n",
    "        today = datetime.datetime.today()\n",
    "        today_str = today.strftime('%Y-%m-%d')\n",
    "        one_month_day = today - datetime.timedelta(30)\n",
    "        one_month_str = one_month_day.strftime('%Y-%m-%d')\n",
    "        \n",
    "        stock_data = Stock.get_stockdata(search_str, one_month_str, today_str)\n",
    "        stock_info = Stock.get_stockinfo(search_str, stock_data, \"Close\")\n",
    "        \n",
    "        return  f'stock: {search_str}\\n' + stock_info\n",
    "    return '你在公三小'"
   ]
  },
  {
   "cell_type": "code",
   "execution_count": 6,
   "metadata": {
    "scrolled": true
   },
   "outputs": [
    {
     "name": "stdout",
     "output_type": "stream",
     "text": [
      " * Serving Flask app \"__main__\" (lazy loading)\n",
      " * Environment: production\n",
      "   WARNING: This is a development server. Do not use it in a production deployment.\n",
      "   Use a production WSGI server instead.\n",
      " * Debug mode: off\n"
     ]
    },
    {
     "name": "stderr",
     "output_type": "stream",
     "text": [
      " * Running on http://127.0.0.1:5000/ (Press CTRL+C to quit)\n",
      "127.0.0.1 - - [06/Mar/2021 20:10:18] \"\u001b[37mPOST /callback HTTP/1.1\u001b[0m\" 200 -\n"
     ]
    },
    {
     "name": "stdout",
     "output_type": "stream",
     "text": [
      "body: {\"events\":[{\"type\":\"message\",\"replyToken\":\"45503909343845c9bc78b91e25eb2757\",\"source\":{\"userId\":\"U72d1ce6e444eedff9046de635661aabc\",\"type\":\"user\"},\"timestamp\":1615032618516,\"mode\":\"active\",\"message\":{\"type\":\"text\",\"id\":\"13670337804150\",\"text\":\"嗨\"}}],\"destination\":\"Ub08d189067bd2fdeb7a14779756f8f08\"}\n",
      "signature: 7BqywwPVxK/71A911/Jy5Z2DME8ECY3oEPtvAzrn8Bs=\n",
      "===\n",
      "chat_record: ['嗨']\n",
      "body: {\"events\":[{\"type\":\"message\",\"replyToken\":\"4f7d7a929b4a4b46a6a1c32d1d770c83\",\"source\":{\"userId\":\"U72d1ce6e444eedff9046de635661aabc\",\"type\":\"user\"},\"timestamp\":1615032623945,\"mode\":\"active\",\"message\":{\"type\":\"text\",\"id\":\"13670338236402\",\"text\":\"股票\"}}],\"destination\":\"Ub08d189067bd2fdeb7a14779756f8f08\"}\n",
      "signature: bFzp/iu3EQrPIHal2hh0P9wr2m9vfoxVvIW3KPy2q58=\n",
      "===\n",
      "chat_record: ['嗨', '股票']\n"
     ]
    },
    {
     "name": "stderr",
     "output_type": "stream",
     "text": [
      "[2021-03-06 20:10:24,816] ERROR in app: Exception on /callback [POST]\n",
      "Traceback (most recent call last):\n",
      "  File \"C:\\Users\\Guan-Ting Chen\\Anaconda3\\lib\\site-packages\\flask\\app.py\", line 2447, in wsgi_app\n",
      "    response = self.full_dispatch_request()\n",
      "  File \"C:\\Users\\Guan-Ting Chen\\Anaconda3\\lib\\site-packages\\flask\\app.py\", line 1952, in full_dispatch_request\n",
      "    rv = self.handle_user_exception(e)\n",
      "  File \"C:\\Users\\Guan-Ting Chen\\Anaconda3\\lib\\site-packages\\flask\\app.py\", line 1821, in handle_user_exception\n",
      "    reraise(exc_type, exc_value, tb)\n",
      "  File \"C:\\Users\\Guan-Ting Chen\\Anaconda3\\lib\\site-packages\\flask\\_compat.py\", line 39, in reraise\n",
      "    raise value\n",
      "  File \"C:\\Users\\Guan-Ting Chen\\Anaconda3\\lib\\site-packages\\flask\\app.py\", line 1950, in full_dispatch_request\n",
      "    rv = self.dispatch_request()\n",
      "  File \"C:\\Users\\Guan-Ting Chen\\Anaconda3\\lib\\site-packages\\flask\\app.py\", line 1936, in dispatch_request\n",
      "    return self.view_functions[rule.endpoint](**req.view_args)\n",
      "  File \"<ipython-input-6-ccb4960ecc49>\", line 39, in callback\n",
      "    handler.handle(body, signature)\n",
      "  File \"C:\\Users\\Guan-Ting Chen\\Anaconda3\\lib\\site-packages\\linebot\\webhook.py\", line 260, in handle\n",
      "    self.__invoke_func(func, event, payload)\n",
      "  File \"C:\\Users\\Guan-Ting Chen\\Anaconda3\\lib\\site-packages\\linebot\\webhook.py\", line 272, in __invoke_func\n",
      "    func(event)\n",
      "  File \"<ipython-input-6-ccb4960ecc49>\", line 92, in get_response\n",
      "    line_bot_api.reply_message(event.reply_token, TextSendMessage(text=result))\n",
      "  File \"C:\\Users\\Guan-Ting Chen\\Anaconda3\\lib\\site-packages\\linebot\\api.py\", line 109, in reply_message\n",
      "    '/v2/bot/message/reply', data=json.dumps(data), timeout=timeout\n",
      "  File \"C:\\Users\\Guan-Ting Chen\\Anaconda3\\lib\\site-packages\\linebot\\api.py\", line 1269, in _post\n",
      "    self.__check_error(response)\n",
      "  File \"C:\\Users\\Guan-Ting Chen\\Anaconda3\\lib\\site-packages\\linebot\\api.py\", line 1310, in __check_error\n",
      "    error=Error.new_from_json_dict(response.json)\n",
      "linebot.exceptions.LineBotApiError: LineBotApiError: status_code=400, request_id=4b0a419a-d113-4251-8103-6cbdb34ef9c4, error_response={\"details\": [], \"message\": \"Invalid reply token\"}, headers={'Server': 'openresty', 'Content-Type': 'application/json', 'x-line-request-id': '4b0a419a-d113-4251-8103-6cbdb34ef9c4', 'x-content-type-options': 'nosniff', 'x-xss-protection': '1; mode=block', 'x-frame-options': 'DENY', 'Content-Length': '33', 'Expires': 'Sat, 06 Mar 2021 12:10:25 GMT', 'Cache-Control': 'max-age=0, no-cache, no-store', 'Pragma': 'no-cache', 'Date': 'Sat, 06 Mar 2021 12:10:25 GMT', 'Connection': 'close'}\n",
      "127.0.0.1 - - [06/Mar/2021 20:10:24] \"\u001b[1m\u001b[35mPOST /callback HTTP/1.1\u001b[0m\" 500 -\n"
     ]
    },
    {
     "name": "stdout",
     "output_type": "stream",
     "text": [
      "body: {\"events\":[{\"type\":\"message\",\"replyToken\":\"7a9aee3a4b994d808e44bacfdba42187\",\"source\":{\"userId\":\"U72d1ce6e444eedff9046de635661aabc\",\"type\":\"user\"},\"timestamp\":1615032628355,\"mode\":\"active\",\"message\":{\"type\":\"text\",\"id\":\"13670338597045\",\"text\":\"鴻海\"}}],\"destination\":\"Ub08d189067bd2fdeb7a14779756f8f08\"}\n",
      "signature: Ie8Q9V80PijS1Aj1iQFHMKYbROcGBZtu2+F8PkG5Srk=\n",
      "===\n",
      "chat_record: ['嗨', '股票', '鴻海']\n",
      "[*********************100%***********************]  1 of 1 completed\n"
     ]
    },
    {
     "name": "stderr",
     "output_type": "stream",
     "text": [
      "[2021-03-06 20:10:28,996] ERROR in app: Exception on /callback [POST]\n",
      "Traceback (most recent call last):\n",
      "  File \"C:\\Users\\Guan-Ting Chen\\Anaconda3\\lib\\site-packages\\flask\\app.py\", line 2447, in wsgi_app\n",
      "    response = self.full_dispatch_request()\n",
      "  File \"C:\\Users\\Guan-Ting Chen\\Anaconda3\\lib\\site-packages\\flask\\app.py\", line 1952, in full_dispatch_request\n",
      "    rv = self.handle_user_exception(e)\n",
      "  File \"C:\\Users\\Guan-Ting Chen\\Anaconda3\\lib\\site-packages\\flask\\app.py\", line 1821, in handle_user_exception\n",
      "    reraise(exc_type, exc_value, tb)\n",
      "  File \"C:\\Users\\Guan-Ting Chen\\Anaconda3\\lib\\site-packages\\flask\\_compat.py\", line 39, in reraise\n",
      "    raise value\n",
      "  File \"C:\\Users\\Guan-Ting Chen\\Anaconda3\\lib\\site-packages\\flask\\app.py\", line 1950, in full_dispatch_request\n",
      "    rv = self.dispatch_request()\n",
      "  File \"C:\\Users\\Guan-Ting Chen\\Anaconda3\\lib\\site-packages\\flask\\app.py\", line 1936, in dispatch_request\n",
      "    return self.view_functions[rule.endpoint](**req.view_args)\n",
      "  File \"<ipython-input-6-ccb4960ecc49>\", line 39, in callback\n",
      "    handler.handle(body, signature)\n",
      "  File \"C:\\Users\\Guan-Ting Chen\\Anaconda3\\lib\\site-packages\\linebot\\webhook.py\", line 260, in handle\n",
      "    self.__invoke_func(func, event, payload)\n",
      "  File \"C:\\Users\\Guan-Ting Chen\\Anaconda3\\lib\\site-packages\\linebot\\webhook.py\", line 272, in __invoke_func\n",
      "    func(event)\n",
      "  File \"<ipython-input-6-ccb4960ecc49>\", line 96, in get_response\n",
      "    line_bot_api.reply_message(event.reply_token, TextSendMessage(text=\"嗚嗚嗚 輸入 高鐵 或 股票\"))\n",
      "  File \"C:\\Users\\Guan-Ting Chen\\Anaconda3\\lib\\site-packages\\linebot\\api.py\", line 109, in reply_message\n",
      "    '/v2/bot/message/reply', data=json.dumps(data), timeout=timeout\n",
      "  File \"C:\\Users\\Guan-Ting Chen\\Anaconda3\\lib\\site-packages\\linebot\\api.py\", line 1269, in _post\n",
      "    self.__check_error(response)\n",
      "  File \"C:\\Users\\Guan-Ting Chen\\Anaconda3\\lib\\site-packages\\linebot\\api.py\", line 1310, in __check_error\n",
      "    error=Error.new_from_json_dict(response.json)\n",
      "linebot.exceptions.LineBotApiError: LineBotApiError: status_code=400, request_id=16f909ff-3ac8-4d89-82ba-339e4aea2061, error_response={\"details\": [], \"message\": \"Invalid reply token\"}, headers={'Server': 'openresty', 'Content-Type': 'application/json', 'x-line-request-id': '16f909ff-3ac8-4d89-82ba-339e4aea2061', 'x-content-type-options': 'nosniff', 'x-xss-protection': '1; mode=block', 'x-frame-options': 'DENY', 'Expires': 'Sat, 06 Mar 2021 12:10:29 GMT', 'Cache-Control': 'max-age=0, no-cache, no-store', 'Pragma': 'no-cache', 'Date': 'Sat, 06 Mar 2021 12:10:29 GMT', 'Connection': 'close'}\n",
      "127.0.0.1 - - [06/Mar/2021 20:10:29] \"\u001b[1m\u001b[35mPOST /callback HTTP/1.1\u001b[0m\" 500 -\n"
     ]
    }
   ],
   "source": [
    "from __future__ import unicode_literals\n",
    "import os, requests, json, configparser\n",
    "from flask import Flask, request, abort\n",
    "from linebot import LineBotApi, WebhookHandler\n",
    "from linebot.exceptions import InvalidSignatureError\n",
    "from linebot.models import *\n",
    "\n",
    "import stock_utils as Stock\n",
    "import thsr_utils as Thsr\n",
    "thsr = Thsr.ThsrModule()\n",
    "\n",
    "chat_record = []\n",
    "thsr_res = {\"starting\":\"\", \"ending\":\"\", \"date\":\"\", \"ampm\":\"\"}\n",
    "station_names = Thsr.station_name\n",
    "date_keys = Thsr.date_key\n",
    "ampm_keys = Thsr.ampm_key\n",
    "\n",
    "\n",
    "app = Flask(__name__)\n",
    "\n",
    "# LINE 聊天機器人的基本資料\n",
    "config = configparser.ConfigParser()\n",
    "config.read('confing.ini')\n",
    "\n",
    "line_bot_api = LineBotApi(config.get('line-bot', 'channel_access_token'))\n",
    "handler = WebhookHandler(config.get('line-bot', 'channel_secret'))\n",
    "\n",
    "# 接收 LINE 資訊\n",
    "@app.route(\"/callback\", methods=['POST'])\n",
    "def callback():\n",
    "    signature = request.headers['X-Line-Signature']\n",
    "    body = request.get_data(as_text=True)\n",
    "    app.logger.info(\"Request body: \" + body)\n",
    "\n",
    "    try:\n",
    "        print(\"body:\",body)\n",
    "        print(\"signature:\", signature)\n",
    "        print(\"===\")\n",
    "        handler.handle(body, signature)\n",
    "    except InvalidSignatureError:\n",
    "        abort(400)\n",
    "    return 'OK'\n",
    "\n",
    "# 回覆設定 (加入高鐵API多輪對話)\n",
    "@handler.add(MessageEvent, message=TextMessage)\n",
    "def get_response(event):\n",
    "    query = event.message.text       \n",
    "    \n",
    "    if len(chat_record) < 5:\n",
    "        chat_record.append(query)\n",
    "    else:\n",
    "        chat_record.pop(0)\n",
    "        chat_record.append(query)\n",
    "    print(\"chat_record:\",chat_record)\n",
    "\n",
    "\n",
    "    # 判斷是否為\"高鐵查詢意圖\"\n",
    "    if query == \"高鐵\":\n",
    "        line_bot_api.reply_message(event.reply_token, TextSendMessage(text=\"哪一天出發?\"))\n",
    "#         chat_record = [\"高鐵\"]\n",
    "    try:\n",
    "        if chat_record[-2] == \"高鐵\" and any(chat_record[-1] == i for i in date_keys):\n",
    "            date_format = thsr.get_date_string_today(chat_record[-1])\n",
    "            thsr_res['date'] = date_format\n",
    "            line_bot_api.reply_message(event.reply_token, TextSendMessage(text=\"上午還是下午的車?\"))\n",
    "\n",
    "        elif any(chat_record[-2] == i for i in date_keys) and any(chat_record[-1] == i for i in ampm_keys):\n",
    "            thsr_res['ampm'] = chat_record[-1]\n",
    "            line_bot_api.reply_message(event.reply_token, TextSendMessage(text=\"起站是哪裡呢?\"))\n",
    "\n",
    "        elif any(chat_record[-2] == i for i in ampm_keys) and any(chat_record[-1] == i for i in station_names):\n",
    "            startind_id = Thsr.station_id[chat_record[-1]]\n",
    "            thsr_res['starting'] = startind_id\n",
    "            line_bot_api.reply_message(event.reply_token, TextSendMessage(text=\"終點站是哪裡呢?\"))\n",
    "\n",
    "        elif any(chat_record[-2] == i for i in station_names) and any(chat_record[-1] == i for i in station_names):\n",
    "            ending_id = Thsr.station_id[chat_record[-1]]\n",
    "            thsr_res['ending'] = ending_id\n",
    "\n",
    "            # print(\"***\",thsr_res['starting'],thsr_res['ending'],thsr_res['date'],thsr_res['ampm'])\n",
    "            text = thsr.get_runs(thsr_res['starting'],thsr_res['ending'],thsr_res['date'],thsr_res['ampm'])\n",
    "            line_bot_api.reply_message(event.reply_token, TextSendMessage(text=text))\n",
    "\n",
    "    except IndexError:\n",
    "        pass\n",
    "    \n",
    "    if query == \"股票\":\n",
    "        line_bot_api.reply_message(event.reply_token, TextSendMessage(text=\"要找哪支股票?\"))\n",
    "#         chat_record = [\"股票\"]\n",
    "    if \"股票\" in chat_record:\n",
    "        result = find_search_stock(chat_record[-1])\n",
    "        line_bot_api.reply_message(event.reply_token, TextSendMessage(text=result))\n",
    "#     except:\n",
    "#         line_bot_api.reply_message(event.reply_token, TextSendMessage(text=\"出錯惹嗚嗚嗚\"))\n",
    "         \n",
    "    line_bot_api.reply_message(event.reply_token, TextSendMessage(text=\"嗚嗚嗚 輸入 高鐵 或 股票\"))\n",
    "\n",
    "if __name__ == \"__main__\":\n",
    "    app.run()"
   ]
  },
  {
   "cell_type": "code",
   "execution_count": null,
   "metadata": {},
   "outputs": [],
   "source": []
  }
 ],
 "metadata": {
  "colab": {
   "name": "rule-based chatbot_多輪 (作業).ipynb",
   "provenance": []
  },
  "kernelspec": {
   "display_name": "Python 3",
   "language": "python",
   "name": "python3"
  },
  "language_info": {
   "codemirror_mode": {
    "name": "ipython",
    "version": 3
   },
   "file_extension": ".py",
   "mimetype": "text/x-python",
   "name": "python",
   "nbconvert_exporter": "python",
   "pygments_lexer": "ipython3",
   "version": "3.6.5"
  }
 },
 "nbformat": 4,
 "nbformat_minor": 1
}
