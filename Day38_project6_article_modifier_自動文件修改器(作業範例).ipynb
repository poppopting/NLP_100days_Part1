{
 "cells": [
  {
   "cell_type": "markdown",
   "metadata": {},
   "source": [
    "```\n",
    "題目: 將某篇文章以上下文相同，比方三連詞(trigram)方式修改內容\n",
    "說明：某篇文章中我們可以找出所有的三連詞(trigram)，以及在前字與後字出現時，\n",
    "按照出現度隨機選出一個字去換掉中間字，這是利用三連詞修改文章內容的最基本作法。\n",
    "一旦字典的資料結構建立，我們就以某種機率(比方20%)去置換原文，並將置換文與原文印出來\n",
    "\n",
    "延伸: 可用五連詞或七連詞去取代中間字，可利用三連詞之前兩字去更換第三字，\n",
    "可增加加詞性的相同性(Parts Of Sentence)提高可讀性，甚至使用 Word2Vec, Glove，或者RNN的\n",
    "\n",
    "範例程式檔名: article_modifier_自動文件修改器.py。\n",
    "模組: sklearn, random, numpy, nltk, bs4\n",
    "輸入檔：./electronics/positive.review\n",
    "成績：被置換文的合理性與可讀性\n",
    "```"
   ]
  },
  {
   "cell_type": "code",
   "execution_count": 1,
   "metadata": {},
   "outputs": [],
   "source": [
    "# 使用三連詞 trigrams 練習簡易文件產生器\n",
    "from __future__ import print_function, division\n",
    "from future.utils import iteritems\n",
    "from builtins import range\n",
    "\n",
    "import nltk\n",
    "import random\n",
    "import numpy as np\n",
    "\n",
    "from bs4 import BeautifulSoup"
   ]
  },
  {
   "cell_type": "code",
   "execution_count": 2,
   "metadata": {},
   "outputs": [],
   "source": [
    "# load the reviews\n",
    "positive_reviews = BeautifulSoup(open('sorted_data_acl/electronics/positive.review', encoding='ISO-8859-1').read(), \"lxml\")\n",
    "positive_reviews = positive_reviews.findAll('review_text')"
   ]
  },
  {
   "cell_type": "code",
   "execution_count": 3,
   "metadata": {},
   "outputs": [],
   "source": [
    "# 提出 三連詞 並置入字典\n",
    "# (w1, w3) 當作 key, [ w2 ] 當作值\n",
    "trigrams = {}\n",
    "for review in positive_reviews:\n",
    "    s = review.text.lower()\n",
    "    tokens = nltk.tokenize.word_tokenize(s)\n",
    "    for i in range(len(tokens) - 2):\n",
    "        k = (tokens[i], tokens[i+2])\n",
    "        if k not in trigrams:\n",
    "            trigrams[k] = []\n",
    "        trigrams[k].append(tokens[i+1])\n",
    "\n",
    "# 將中間字矩陣變成或然率向量\n",
    "trigram_probabilities = {}\n",
    "for k, words in iteritems(trigrams):\n",
    "    # 產生一個  word -> count 字典\n",
    "    if len(set(words)) > 1:\n",
    "        # 如果中間字middle word不只有一個機率 \n",
    "        d = {}\n",
    "        n = 0\n",
    "        for w in words:\n",
    "            if w not in d:\n",
    "                d[w] = 0\n",
    "            d[w] += 1\n",
    "            n += 1\n",
    "        for w, c in iteritems(d):\n",
    "            # 判斷詞性\n",
    "            d[w] = (float(c) / n, nltk.pos_tag([w])[0][1])\n",
    "        trigram_probabilities[k] = d"
   ]
  },
  {
   "cell_type": "code",
   "execution_count": 4,
   "metadata": {},
   "outputs": [],
   "source": [
    "def random_sample(d, pos_tag):\n",
    "    # 從字典隨機選出一個帶機率值的樣本，回傳累積機率值最大的字\n",
    "    r = random.random()\n",
    "    cumulative = 0\n",
    "    for w, (prob, pos)in iteritems(d):\n",
    "        cumulative += prob\n",
    "        # 確定詞性是否一致\n",
    "        if (r < cumulative) and (pos == pos_tag):\n",
    "            return w\n",
    "    # 如果沒找到同詞性的字就回傳最後一個字\n",
    "    return w"
   ]
  },
  {
   "cell_type": "code",
   "execution_count": 5,
   "metadata": {},
   "outputs": [
    {
     "name": "stdout",
     "output_type": "stream",
     "text": [
      "Original: \n",
      "i have used this 128 mb xd memory card and it works fine.  the pictures are good.  i have had no problems.  i now have this memory card and the standard 16 mb card that came with my camera.  good deal.\n",
      "\n",
      "Spun:\n",
      "i have used this 128 mb xd memory card and it works fine. the pictures are nominal. i have had no problems. from now have this digital card and the standard 16 mb card that products with my belongings. good deal.\n"
     ]
    }
   ],
   "source": [
    "def test_spinner():\n",
    "    review = random.choice(positive_reviews)\n",
    "    s = review.text.lower()\n",
    "    print(\"Original:\", s)\n",
    "    tokens = nltk.tokenize.word_tokenize(s)\n",
    "\n",
    "    for i in range(len(tokens) - 2):\n",
    "        if random.random() < 0.2: # 20% chance of replacement\n",
    "            k = (tokens[i], tokens[i+2])\n",
    "            if k in trigram_probabilities:\n",
    "                w = random_sample(trigram_probabilities[k], nltk.pos_tag([tokens[i+1]]))\n",
    "                tokens[i+1] = w\n",
    "        \n",
    "    print(\"Spun:\")\n",
    " \n",
    "    print(\" \".join(tokens).replace(\" .\", \".\").replace(\" '\", \"'\").replace(\" ,\", \",\").replace(\"$ \", \"$\").replace(\" !\", \"!\"))\n",
    "\n",
    "\n",
    "if __name__ == '__main__':\n",
    "    test_spinner()\n"
   ]
  }
 ],
 "metadata": {
  "kernelspec": {
   "display_name": "Python 3",
   "language": "python",
   "name": "python3"
  },
  "language_info": {
   "codemirror_mode": {
    "name": "ipython",
    "version": 3
   },
   "file_extension": ".py",
   "mimetype": "text/x-python",
   "name": "python",
   "nbconvert_exporter": "python",
   "pygments_lexer": "ipython3",
   "version": "3.6.5"
  }
 },
 "nbformat": 4,
 "nbformat_minor": 2
}
