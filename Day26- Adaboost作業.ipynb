{
 "cells": [
  {
   "cell_type": "markdown",
   "metadata": {},
   "source": [
    "### 作業目的:了解Ensemble中的Blending與Stacking"
   ]
  },
  {
   "cell_type": "markdown",
   "metadata": {},
   "source": [
    "### Question: 請描述Blending與Stacking的差異\n",
    "\n",
    "Answer:\n",
    "```\n",
    "1. based model input的 training data拆分以及訓練預測方式:\n",
    "    Stacking: 切分為K-fold，每次使用其中K-1fold的data訓練，並預測剩下1fold的資料，以prediction當作feature\n",
    "    Blending: 採用holdout方式，使用base train data做訓練，並預測holdout set，以prediction當作feature\n",
    "    \n",
    "2. meta model的 input features:\n",
    "    Stacking: input 僅用各base model的prediction\n",
    "    Blending: input 除了各base model的prediction外，也加入了原始的features\n",
    "    \n",
    "3. meta model的training data:\n",
    "    Stacking: 所有training data\n",
    "    Blending: 僅有holdout set 的data\n",
    "    \n",
    "```"
   ]
  }
 ],
 "metadata": {
  "kernelspec": {
   "display_name": "Python 3",
   "language": "python",
   "name": "python3"
  },
  "language_info": {
   "codemirror_mode": {
    "name": "ipython",
    "version": 3
   },
   "file_extension": ".py",
   "mimetype": "text/x-python",
   "name": "python",
   "nbconvert_exporter": "python",
   "pygments_lexer": "ipython3",
   "version": "3.6.5"
  }
 },
 "nbformat": 4,
 "nbformat_minor": 2
}
