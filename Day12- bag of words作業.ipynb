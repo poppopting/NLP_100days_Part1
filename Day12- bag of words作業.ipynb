{
 "cells": [
  {
   "cell_type": "markdown",
   "metadata": {},
   "source": [
    "## 作業目標：搭建一個bag of words模型"
   ]
  },
  {
   "cell_type": "markdown",
   "metadata": {},
   "source": [
    "---"
   ]
  },
  {
   "cell_type": "code",
   "execution_count": 1,
   "metadata": {},
   "outputs": [],
   "source": [
    "import pandas as pd\n",
    "import nltk\n",
    "#nltk.download()\n",
    "import numpy as np\n",
    "dataset = pd.read_csv('Restaurant_Reviews.tsv', delimiter='\\t', quoting=3)\n",
    "corpus = dataset['Review'].values"
   ]
  },
  {
   "cell_type": "markdown",
   "metadata": {},
   "source": [
    "### 從文本中取出所有單字"
   ]
  },
  {
   "cell_type": "code",
   "execution_count": 2,
   "metadata": {},
   "outputs": [],
   "source": [
    "whole_words = []\n",
    "for sentence in corpus:\n",
    "    tokenized_sentence = nltk.word_tokenize(sentence)\n",
    "    for word in tokenized_sentence:\n",
    "        whole_words.append(word)"
   ]
  },
  {
   "cell_type": "markdown",
   "metadata": {},
   "source": [
    "### 移除重複單字"
   ]
  },
  {
   "cell_type": "code",
   "execution_count": 3,
   "metadata": {},
   "outputs": [
    {
     "name": "stdout",
     "output_type": "stream",
     "text": [
      "共有2356個單字\n"
     ]
    }
   ],
   "source": [
    "whole_words = set(whole_words)\n",
    "print('共有{}個單字'.format(len(whole_words)))"
   ]
  },
  {
   "cell_type": "markdown",
   "metadata": {},
   "source": [
    "### 建立字典使每一個單字有對應數值"
   ]
  },
  {
   "cell_type": "code",
   "execution_count": 4,
   "metadata": {},
   "outputs": [],
   "source": [
    "word_index = {}\n",
    "index_word = {}\n",
    "\n",
    "for idx, word in enumerate(whole_words):\n",
    "  \n",
    "    word_index[word] = idx\n",
    "    index_word[idx] = word"
   ]
  },
  {
   "cell_type": "code",
   "execution_count": 5,
   "metadata": {},
   "outputs": [
    {
     "data": {
      "text/plain": [
       "[('glance', 0),\n",
       " ('little', 1),\n",
       " ('world', 2),\n",
       " ('Some', 3),\n",
       " ('Excalibur', 4),\n",
       " ('disgusted', 5),\n",
       " ('hospitality', 6),\n",
       " ('requested', 7),\n",
       " ('during', 8),\n",
       " ('pay', 9)]"
      ]
     },
     "execution_count": 5,
     "metadata": {},
     "output_type": "execute_result"
    }
   ],
   "source": [
    "list(word_index.items())[:10]"
   ]
  },
  {
   "cell_type": "code",
   "execution_count": 6,
   "metadata": {},
   "outputs": [
    {
     "data": {
      "text/plain": [
       "[(0, 'glance'),\n",
       " (1, 'little'),\n",
       " (2, 'world'),\n",
       " (3, 'Some'),\n",
       " (4, 'Excalibur'),\n",
       " (5, 'disgusted'),\n",
       " (6, 'hospitality'),\n",
       " (7, 'requested'),\n",
       " (8, 'during'),\n",
       " (9, 'pay')]"
      ]
     },
     "execution_count": 6,
     "metadata": {},
     "output_type": "execute_result"
    }
   ],
   "source": [
    "list(index_word.items())[:10]"
   ]
  },
  {
   "cell_type": "markdown",
   "metadata": {},
   "source": [
    "## 轉換句子為bag of words型式"
   ]
  },
  {
   "cell_type": "code",
   "execution_count": 7,
   "metadata": {},
   "outputs": [],
   "source": [
    "def _get_bag_of_words_vector(sentence, word_index_dic, whole_words):\n",
    "    \n",
    "    vector = np.zeros(len(whole_words))\n",
    "    for word in nltk.word_tokenize(sentence):\n",
    "        if word in whole_words:\n",
    "            vector[word_index_dic[word]] += 1\n",
    "    return vector\n"
   ]
  },
  {
   "cell_type": "code",
   "execution_count": 8,
   "metadata": {},
   "outputs": [
    {
     "data": {
      "text/plain": [
       "array([0., 0., 0., ..., 0., 0., 0.])"
      ]
     },
     "execution_count": 8,
     "metadata": {},
     "output_type": "execute_result"
    }
   ],
   "source": [
    "_get_bag_of_words_vector('Wow... Loved this place.', word_index, whole_words)"
   ]
  }
 ],
 "metadata": {
  "kernelspec": {
   "display_name": "Python 3",
   "language": "python",
   "name": "python3"
  },
  "language_info": {
   "codemirror_mode": {
    "name": "ipython",
    "version": 3
   },
   "file_extension": ".py",
   "mimetype": "text/x-python",
   "name": "python",
   "nbconvert_exporter": "python",
   "pygments_lexer": "ipython3",
   "version": "3.6.5"
  }
 },
 "nbformat": 4,
 "nbformat_minor": 2
}
