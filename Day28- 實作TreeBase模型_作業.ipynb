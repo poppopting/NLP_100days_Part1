{
 "cells": [
  {
   "cell_type": "markdown",
   "metadata": {},
   "source": [
    "### 作業目的: 使用樹型模型進行文章分類\n",
    "\n",
    "本次作業主利用[Amazon Review data中的All Beauty](https://nijianmo.github.io/amazon/index.html)來進行review評價分類(文章分類)\n",
    "\n",
    "資料中將review分為1,2,3,4,5分，而在這份作業，我們將評論改分為差評價、普通評價、優良評價(1,2-->1差評、3-->2普通評價、4,5-->3優良評價)"
   ]
  },
  {
   "cell_type": "markdown",
   "metadata": {},
   "source": [
    "### 載入套件"
   ]
  },
  {
   "cell_type": "code",
   "execution_count": 1,
   "metadata": {},
   "outputs": [],
   "source": [
    "import json\n",
    "import re\n",
    "from sklearn.tree import DecisionTreeClassifier\n",
    "from sklearn.ensemble import AdaBoostClassifier, RandomForestClassifier\n",
    "from sklearn.metrics import classification_report, confusion_matrix\n",
    "from sklearn.model_selection import train_test_split\n",
    "from sklearn.feature_extraction.text import CountVectorizer, TfidfVectorizer, TfidfTransformer"
   ]
  },
  {
   "cell_type": "markdown",
   "metadata": {},
   "source": [
    "### 資料前處理\n",
    "文本資料較為龐大，這裡我們取前10000筆資料來進行作業練習"
   ]
  },
  {
   "cell_type": "code",
   "execution_count": 2,
   "metadata": {},
   "outputs": [
    {
     "data": {
      "text/plain": [
       "{'overall': 1.0,\n",
       " 'verified': True,\n",
       " 'reviewTime': '02 19, 2015',\n",
       " 'reviewerID': 'A1V6B6TNIC10QE',\n",
       " 'asin': '0143026860',\n",
       " 'reviewerName': 'theodore j bigham',\n",
       " 'reviewText': 'great',\n",
       " 'summary': 'One Star',\n",
       " 'unixReviewTime': 1424304000}"
      ]
     },
     "execution_count": 2,
     "metadata": {},
     "output_type": "execute_result"
    }
   ],
   "source": [
    "#load json data\n",
    "all_reviews = []\n",
    "with open('All_Beauty.json', 'r', encoding='utf-8') as f:\n",
    "    for line in f.readlines():\n",
    "        all_reviews.append(json.loads(line))\n",
    "all_reviews[0]"
   ]
  },
  {
   "cell_type": "code",
   "execution_count": 3,
   "metadata": {},
   "outputs": [],
   "source": [
    "#parse label(overall) and corpus(reviewText)\n",
    "corpus = []\n",
    "labels = []\n",
    "\n",
    "for review in all_reviews[:10000]:\n",
    "    try:\n",
    "        corpus.append(review['reviewText'])\n",
    "        rating = review['overall']\n",
    "        #transform labels: 1,2 --> 1 and 3 --> 2 and 4,5 --> 3\n",
    "        if rating <= 1:\n",
    "            labels.append(1)\n",
    "        elif rating == 3:\n",
    "            labels.append(2)\n",
    "        else:\n",
    "            labels.append(3)\n",
    "    except:\n",
    "        pass\n"
   ]
  },
  {
   "cell_type": "code",
   "execution_count": 4,
   "metadata": {},
   "outputs": [
    {
     "name": "stderr",
     "output_type": "stream",
     "text": [
      "[nltk_data] Downloading package stopwords to C:\\Users\\Guan-Ting\n",
      "[nltk_data]     Chen\\AppData\\Roaming\\nltk_data...\n",
      "[nltk_data]   Package stopwords is already up-to-date!\n"
     ]
    }
   ],
   "source": [
    "from nltk.corpus import stopwords\n",
    "\n",
    "import nltk\n",
    "\n",
    "nltk.download('stopwords')\n",
    "\n",
    "# Lemmatize with POS Tag\n",
    "from nltk.corpus import wordnet\n",
    "from nltk.stem import WordNetLemmatizer \n",
    "\n",
    "## 創建Lemmatizer\n",
    "lemmatizer = WordNetLemmatizer() \n",
    "def get_wordnet_pos(word):\n",
    "    \"\"\"將pos_tag結果mapping到lemmatizer中pos的格式\"\"\"\n",
    "    tag = nltk.pos_tag([word])[0][1][0].upper()\n",
    "    tag_dict = {\"J\": wordnet.ADJ,\n",
    "                \"N\": wordnet.NOUN,\n",
    "                \"V\": wordnet.VERB,\n",
    "                \"R\": wordnet.ADV}\n",
    "\n",
    "    return tag_dict.get(tag, wordnet.NOUN)\n",
    "\n",
    "\n",
    "def clean_content(X):\n",
    "    stop_words = set(stopwords.words('english'))\n",
    "    content_clean = []\n",
    "    # remove non-alphabet characters\n",
    "    X_clean = re.sub('[^a-zA-Z]',' ', X).lower()\n",
    "    # tokenize\n",
    "    X_word_tokenize = nltk.word_tokenize(X_clean)\n",
    "\n",
    "    # stopwords_lemmatizer\n",
    "    for word in X_word_tokenize:\n",
    "        if word not in stop_words:\n",
    "            word = lemmatizer.lemmatize(word, get_wordnet_pos(word))\n",
    "            content_clean.append(word)\n",
    "                \n",
    "    return ' '.join(content_clean)"
   ]
  },
  {
   "cell_type": "code",
   "execution_count": 5,
   "metadata": {},
   "outputs": [],
   "source": [
    "#preprocessing data\n",
    "#remove email address, punctuations, and change line symbol(\\n)\n",
    "corpus = [clean_content(review) for review in corpus] "
   ]
  },
  {
   "cell_type": "code",
   "execution_count": 6,
   "metadata": {},
   "outputs": [
    {
     "data": {
      "text/plain": [
       "(7996, 1999, 7996, 1999)"
      ]
     },
     "execution_count": 6,
     "metadata": {},
     "output_type": "execute_result"
    }
   ],
   "source": [
    "#split corpus and label into train and test\n",
    "x_train, x_test, y_train, y_test = train_test_split(corpus, labels, test_size=0.2, random_state=42)\n",
    "len(x_train), len(x_test), len(y_train), len(y_test)"
   ]
  },
  {
   "cell_type": "code",
   "execution_count": 7,
   "metadata": {},
   "outputs": [],
   "source": [
    "#change corpus into vector\n",
    "#you can use tfidf or BoW here\n",
    "tf = TfidfVectorizer(max_features=2000)\n",
    "tf.fit(x_train)\n",
    "\n",
    "#transform training and testing corpus into vector form\n",
    "x_train = tf.transform(x_train).toarray()\n",
    "x_test = tf.transform(x_test).toarray()"
   ]
  },
  {
   "cell_type": "markdown",
   "metadata": {},
   "source": [
    "### 訓練與預測"
   ]
  },
  {
   "cell_type": "code",
   "execution_count": 8,
   "metadata": {},
   "outputs": [
    {
     "data": {
      "text/plain": [
       "RandomForestClassifier(bootstrap=True, class_weight={1: 20, 2: 20, 3: 1},\n",
       "                       criterion='gini', max_depth=None, max_features='auto',\n",
       "                       max_leaf_nodes=None, min_impurity_decrease=0.0,\n",
       "                       min_impurity_split=None, min_samples_leaf=1,\n",
       "                       min_samples_split=2, min_weight_fraction_leaf=0.0,\n",
       "                       n_estimators=50, n_jobs=None, oob_score=False,\n",
       "                       random_state=None, verbose=0, warm_start=False)"
      ]
     },
     "execution_count": 8,
     "metadata": {},
     "output_type": "execute_result"
    }
   ],
   "source": [
    "#build classification model (decision tree, random forest, or adaboost)\n",
    "#start training\n",
    "cls = RandomForestClassifier(n_estimators=50,\n",
    "                             class_weight={1: 20, 2: 20, 3:1})\n",
    "cls.fit(x_train, y_train)"
   ]
  },
  {
   "cell_type": "code",
   "execution_count": 9,
   "metadata": {},
   "outputs": [],
   "source": [
    "#start inference\n",
    "y_pred = cls.predict(x_test)"
   ]
  },
  {
   "cell_type": "code",
   "execution_count": 10,
   "metadata": {},
   "outputs": [
    {
     "name": "stdout",
     "output_type": "stream",
     "text": [
      "Accuracy: 0.9119559779889945\n"
     ]
    }
   ],
   "source": [
    "#calculate accuracy\n",
    "print('Accuracy:', sum(y_test==y_pred) / len(y_pred))"
   ]
  },
  {
   "cell_type": "code",
   "execution_count": 11,
   "metadata": {},
   "outputs": [
    {
     "name": "stdout",
     "output_type": "stream",
     "text": [
      "              precision    recall  f1-score   support\n",
      "\n",
      "           1       0.94      0.19      0.31        85\n",
      "           2       0.07      0.04      0.05        73\n",
      "           3       0.93      0.98      0.95      1841\n",
      "\n",
      "    accuracy                           0.91      1999\n",
      "   macro avg       0.65      0.40      0.44      1999\n",
      "weighted avg       0.90      0.91      0.89      1999\n",
      "\n",
      "[[  16    3   66]\n",
      " [   0    3   70]\n",
      " [   1   36 1804]]\n"
     ]
    }
   ],
   "source": [
    "#calculate confusion matrix, precision, recall, and f1-score\n",
    "print(classification_report(y_test, y_pred))\n",
    "print(confusion_matrix(y_test, y_pred))"
   ]
  },
  {
   "cell_type": "markdown",
   "metadata": {},
   "source": [
    "由上述資訊可以發現, 模型在好評的準確度高(precision, recall都高), 而在差評的部分表現較不理想, 在普通評價的部分大部分跟差評搞混,\n",
    "同學可以試著學習到的各種方法來提升模型的表現"
   ]
  }
 ],
 "metadata": {
  "kernelspec": {
   "display_name": "Python 3",
   "language": "python",
   "name": "python3"
  },
  "language_info": {
   "codemirror_mode": {
    "name": "ipython",
    "version": 3
   },
   "file_extension": ".py",
   "mimetype": "text/x-python",
   "name": "python",
   "nbconvert_exporter": "python",
   "pygments_lexer": "ipython3",
   "version": "3.6.5"
  }
 },
 "nbformat": 4,
 "nbformat_minor": 2
}
