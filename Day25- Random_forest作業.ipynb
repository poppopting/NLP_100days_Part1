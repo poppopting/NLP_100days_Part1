{
 "cells": [
  {
   "cell_type": "markdown",
   "metadata": {},
   "source": [
    "### 作業目的: 了解何謂Bias-Variance Tradeoff\n",
    "https://towardsdatascience.com/the-bias-variance-tradeoff-8818f41e39e9"
   ]
  },
  {
   "cell_type": "markdown",
   "metadata": {},
   "source": [
    "### Q1: 一般模型誤差可拆為三部分，這三部分的誤差分別是？\n",
    "```\n",
    "Answer: \n",
    "1. bias error (error from wrong model assumptions)\n",
    "2. variance (error from sensitivity to small fluctuations in training data) \n",
    "3. irreducible error (inherent noise in the problem itself).```"
   ]
  },
  {
   "cell_type": "markdown",
   "metadata": {},
   "source": [
    "### Q2: 請解釋何謂Bias-Variance Tradeoff\n",
    "\n",
    "Answer:\n",
    "```\n",
    "複雜的模型雖可帶來低的bias，但受到訓練集資料的樣本數影響很大，不同樣本數所訓練出來的模型variance很大\n",
    "而簡單的模型雖對於訓練集的樣本較不敏感(低variance)，但在預測時容易會有高的bias\n",
    "因此在建立模型時，模型必須能夠在bias跟variance中取得一個較佳的平衡，這即是Bias-Variance Tradeoff\n",
    "```"
   ]
  }
 ],
 "metadata": {
  "kernelspec": {
   "display_name": "Python 3",
   "language": "python",
   "name": "python3"
  },
  "language_info": {
   "codemirror_mode": {
    "name": "ipython",
    "version": 3
   },
   "file_extension": ".py",
   "mimetype": "text/x-python",
   "name": "python",
   "nbconvert_exporter": "python",
   "pygments_lexer": "ipython3",
   "version": "3.6.5"
  }
 },
 "nbformat": 4,
 "nbformat_minor": 2
}
