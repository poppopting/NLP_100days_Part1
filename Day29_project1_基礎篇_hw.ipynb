{
 "cells": [
  {
   "cell_type": "markdown",
   "metadata": {
    "colab_type": "text",
    "id": "dpYyaBgoJLR4"
   },
   "source": [
    "# 自製智能中文選字系統  (1)"
   ]
  },
  {
   "cell_type": "markdown",
   "metadata": {
    "colab_type": "text",
    "id": "9fQnVHVmJLSH"
   },
   "source": [
    "## 資料前處理"
   ]
  },
  {
   "cell_type": "markdown",
   "metadata": {
    "colab_type": "text",
    "id": "aQIl0BP5JLSH"
   },
   "source": [
    "確認版本為 python3"
   ]
  },
  {
   "cell_type": "code",
   "execution_count": 1,
   "metadata": {},
   "outputs": [
    {
     "data": {
      "text/plain": [
       "'3.6.5 |Anaconda, Inc.| (default, Mar 29 2018, 13:32:41) [MSC v.1900 64 bit (AMD64)]'"
      ]
     },
     "execution_count": 1,
     "metadata": {},
     "output_type": "execute_result"
    }
   ],
   "source": [
    "import sys\n",
    "sys.version"
   ]
  },
  {
   "cell_type": "code",
   "execution_count": 2,
   "metadata": {
    "colab": {},
    "colab_type": "code",
    "id": "8wG3IWB2JLSI"
   },
   "outputs": [],
   "source": [
    "import re"
   ]
  },
  {
   "cell_type": "code",
   "execution_count": 3,
   "metadata": {
    "colab": {},
    "colab_type": "code",
    "id": "xZXcaXMRJLSL"
   },
   "outputs": [],
   "source": [
    "def prepocess_line(line):\n",
    "    # 僅僅挑出中文字元，並且斷開不連續的中文字\n",
    "    line_clean = re.sub(r'[^\\u4E00-\\u9FCC]', ' ', line)\n",
    "    segments = line_clean.strip().split(' ')\n",
    "    segments = [seg for seg in segments if seg]\n",
    "    return segments"
   ]
  },
  {
   "cell_type": "code",
   "execution_count": 4,
   "metadata": {
    "colab": {},
    "colab_type": "code",
    "id": "1V1YPovTJLSO",
    "outputId": "fb9b88ae-9b2e-4ab3-fa8a-9ebec8b5190c"
   },
   "outputs": [
    {
     "data": {
      "text/plain": [
       "['英語', '一詞源於遷居英格蘭的日耳曼部落盎格魯', '而', '盎格魯', '得名於']"
      ]
     },
     "execution_count": 4,
     "metadata": {},
     "output_type": "execute_result"
    }
   ],
   "source": [
    "prepocess_line('“英語”一詞源於遷居英格蘭的日耳曼部落盎格魯（），而“盎格魯”得名於')  \n",
    "# 應該為：['英語', '一詞源於遷居英格蘭的日耳曼部落盎格魯', '而', '盎格魯', '得名於']"
   ]
  },
  {
   "cell_type": "code",
   "execution_count": 5,
   "metadata": {},
   "outputs": [],
   "source": [
    "segments = []\n",
    "with open('wiki_zh_small.txt', encoding='utf-8') as f:\n",
    "    for line in f.readlines():\n",
    "        segments += prepocess_line(line)"
   ]
  },
  {
   "cell_type": "markdown",
   "metadata": {
    "colab_type": "text",
    "id": "N-E0XU7lJLSQ"
   },
   "source": [
    "## Ngram\n",
    "\n",
    "一開始要先計算字詞出現的次數"
   ]
  },
  {
   "cell_type": "code",
   "execution_count": 6,
   "metadata": {
    "colab": {},
    "colab_type": "code",
    "id": "U0GNtfVnJLSR"
   },
   "outputs": [],
   "source": [
    "from collections import Counter\n",
    "\n",
    "class Counters:\n",
    "    def __init__(self, n):\n",
    "        self.n = n\n",
    "        self.counters = [Counter() for _ in range(n + 1)]  # 分別代表計算0、1、...個字的出現次數\n",
    "\n",
    "    def fit(self, segments):\n",
    "        # 因為 self.counters 分別代表計算0、1、...個字的出現次數\n",
    "        # 請在此實作利用 segments 以及函式 _skip 來統計次數\n",
    "        for segment in segments:\n",
    "            self.counters[0].update(['']*len(segment))\n",
    "            for i in range(1,self.n+1):\n",
    "                self.counters[i].update(self._skip(segment, i))\n",
    "\n",
    "    def __getitem__(self, k):\n",
    "        return self.counters[k]\n",
    "\n",
    "    def _skip(self, segment, n):\n",
    "        assert n > 0\n",
    "        if len(segment) < n:\n",
    "            return []\n",
    "        shift = n - 1\n",
    "        for i in range(len(segment) - shift):\n",
    "            yield segment[i:i+shift+1]"
   ]
  },
  {
   "cell_type": "code",
   "execution_count": 7,
   "metadata": {
    "colab": {},
    "colab_type": "code",
    "id": "F4-d0YiMJLSU"
   },
   "outputs": [],
   "source": [
    "counters = Counters(n=3)\n",
    "counters.fit(segments)"
   ]
  },
  {
   "cell_type": "code",
   "execution_count": 8,
   "metadata": {
    "colab": {},
    "colab_type": "code",
    "id": "UpCDHjXHJLSW",
    "outputId": "a60d9344-c12b-4eed-d836-72a172b0ea1e"
   },
   "outputs": [
    {
     "data": {
      "text/plain": [
       "Counter({'': 371370})"
      ]
     },
     "execution_count": 8,
     "metadata": {},
     "output_type": "execute_result"
    }
   ],
   "source": [
    "counters[0]\n",
    "# 應該為： Counter({'': 371373})"
   ]
  },
  {
   "cell_type": "code",
   "execution_count": 9,
   "metadata": {
    "colab": {},
    "colab_type": "code",
    "id": "x2gOKTEyJLSY"
   },
   "outputs": [],
   "source": [
    "class Ngram:\n",
    "    def __init__(self, n, counters):\n",
    "        assert n <= counters.n\n",
    "        self.n = n\n",
    "        self.major_counter = counters[n]\n",
    "        self.minor_counter = counters[n-1]\n",
    "\n",
    "    def predict_proba(self, prefix='', top_k=5):\n",
    "        assert len(prefix) >= self.n - 1\n",
    "        # 使用 Ngram 的公式計算出下一個字出現的機率\n",
    "        # 輸出為機率與字的tuple列表，詳見下方輸出範例\n",
    "        \n",
    "        prefix = prefix[-(self.n-1):] if self.n > 1 else ''\n",
    "        prefix_counts = self.minor_counter.get(prefix,0)\n",
    "        candidates = []\n",
    "        for k, v in self.major_counter.items():\n",
    "            if k.startswith(prefix):\n",
    "                candidates.append((v/prefix_counts, k[-1]))\n",
    "                \n",
    "        sorted_probs = sorted(candidates, key=lambda x: x[0], reverse=True)\n",
    "        \n",
    "        return sorted_probs[:top_k] if top_k > 0 else sorted_probs\n",
    "\n",
    "    def get_proba_dict(self, prefix=''):\n",
    "        return {word: prob for prob, word in self.predict_proba(prefix, top_k=-1)}\n"
   ]
  },
  {
   "cell_type": "code",
   "execution_count": 10,
   "metadata": {
    "colab": {},
    "colab_type": "code",
    "id": "mErL4AtjJLSc"
   },
   "outputs": [],
   "source": [
    "unigram = Ngram(1, counters)"
   ]
  },
  {
   "cell_type": "code",
   "execution_count": 11,
   "metadata": {
    "colab": {},
    "colab_type": "code",
    "id": "M8BZcC7lJLSe",
    "outputId": "e395b66c-7de6-49d7-d796-95d0cec00a1d",
    "scrolled": true,
    "tags": []
   },
   "outputs": [
    {
     "data": {
      "text/plain": [
       "[(0.035732557826426474, '的'),\n",
       " (0.012927807846621966, '國'),\n",
       " (0.010620136252255163, '中'),\n",
       " (0.00998465142580176, '在'),\n",
       " (0.009852707542343216, '一')]"
      ]
     },
     "execution_count": 11,
     "metadata": {},
     "output_type": "execute_result"
    }
   ],
   "source": [
    "unigram.predict_proba('我思')\n",
    "# 應該為：[(0.035732269174118744, '的'),\n",
    "#         (0.012927703414087723, '國'),\n",
    "#         (0.010620050461395955, '中'),\n",
    "#         (0.009984570768472667, '在'),\n",
    "#         (0.009852627950874188, '一')]"
   ]
  },
  {
   "cell_type": "code",
   "execution_count": 12,
   "metadata": {
    "colab": {},
    "colab_type": "code",
    "id": "vYRqughPJLSh"
   },
   "outputs": [],
   "source": [
    "bigram = Ngram(2, counters)\n",
    "trigram = Ngram(3, counters)"
   ]
  },
  {
   "cell_type": "markdown",
   "metadata": {
    "colab_type": "text",
    "id": "lG6TV-8iJLSj"
   },
   "source": [
    "## 使用Ngram來建立第一版選字系統"
   ]
  },
  {
   "cell_type": "code",
   "execution_count": 13,
   "metadata": {
    "colab": {},
    "colab_type": "code",
    "id": "Ak-zlXIGJLSk"
   },
   "outputs": [],
   "source": [
    "class ChineseWordRecommenderV1:\n",
    "    def __init__(self, unigram, bigram, trigram):\n",
    "        self.unigram = unigram\n",
    "        self.bigram = bigram\n",
    "        self.trigram = trigram\n",
    "    \n",
    "    def predict_proba(self, prefix='', top_k=5):\n",
    "        # 使用Ngram來建立選字系統\n",
    "        \n",
    "        if not prefix:\n",
    "            return self.unigram.predict_proba(prefix, top_k)\n",
    "        \n",
    "        elif len(prefix) == 1:\n",
    "            return self.bigram.predict_proba(prefix, top_k)\n",
    "        \n",
    "        else:\n",
    "            return self.trigram.predict_proba(prefix, top_k)"
   ]
  },
  {
   "cell_type": "code",
   "execution_count": 14,
   "metadata": {
    "colab": {},
    "colab_type": "code",
    "id": "0LS4xO4XJLSl"
   },
   "outputs": [],
   "source": [
    "model = ChineseWordRecommenderV1(unigram, bigram, trigram)"
   ]
  },
  {
   "cell_type": "code",
   "execution_count": 15,
   "metadata": {
    "colab": {},
    "colab_type": "code",
    "id": "j8pziwHnJLSn",
    "outputId": "70ec8b6a-c222-4981-8628-fc8357966621",
    "tags": []
   },
   "outputs": [
    {
     "data": {
      "text/plain": [
       "[(0.75, '故'), (0.25, '維')]"
      ]
     },
     "execution_count": 15,
     "metadata": {},
     "output_type": "execute_result"
    }
   ],
   "source": [
    "probs = model.predict_proba('我思', top_k=10)\n",
    "probs"
   ]
  },
  {
   "cell_type": "markdown",
   "metadata": {
    "colab_type": "text",
    "id": "sM7_WCTmJLSq"
   },
   "source": [
    "## Demo"
   ]
  },
  {
   "cell_type": "code",
   "execution_count": 16,
   "metadata": {
    "colab": {
     "referenced_widgets": [
      "671d1e5f6874463ab4f184d5e8606e81",
      "5e8aac42609740ecb19f192ac9542006"
     ]
    },
    "colab_type": "code",
    "id": "Qsupw9BoJLSs",
    "outputId": "90544490-4fc3-4350-8447-2673999a611f"
   },
   "outputs": [
    {
     "data": {
      "application/vnd.jupyter.widget-view+json": {
       "model_id": "73ba945c3aac4948944da956f708a3b1",
       "version_major": 2,
       "version_minor": 0
      },
      "text/plain": [
       "Label(value='')"
      ]
     },
     "metadata": {},
     "output_type": "display_data"
    },
    {
     "data": {
      "application/vnd.jupyter.widget-view+json": {
       "model_id": "d218797e51554f9fb6bf80b2a4521d1c",
       "version_major": 2,
       "version_minor": 0
      },
      "text/plain": [
       "Textarea(value='')"
      ]
     },
     "metadata": {},
     "output_type": "display_data"
    }
   ],
   "source": [
    "import ipywidgets as widgets\n",
    "\n",
    "text = widgets.Textarea()\n",
    "label = widgets.Label()\n",
    "display(label, text)\n",
    "\n",
    "def func(change):\n",
    "    probs = model.predict_proba(change.new, top_k=10)\n",
    "    label.value = ' ' + '\\t'.join([word for prob, word in probs])\n",
    "\n",
    "text.observe(func, names='value')"
   ]
  }
 ],
 "metadata": {
  "colab": {
   "name": "final_project_A_1.ipynb",
   "provenance": []
  },
  "kernelspec": {
   "display_name": "Python 3",
   "language": "python",
   "name": "python3"
  },
  "language_info": {
   "codemirror_mode": {
    "name": "ipython",
    "version": 3
   },
   "file_extension": ".py",
   "mimetype": "text/x-python",
   "name": "python",
   "nbconvert_exporter": "python",
   "pygments_lexer": "ipython3",
   "version": "3.6.5"
  }
 },
 "nbformat": 4,
 "nbformat_minor": 1
}
